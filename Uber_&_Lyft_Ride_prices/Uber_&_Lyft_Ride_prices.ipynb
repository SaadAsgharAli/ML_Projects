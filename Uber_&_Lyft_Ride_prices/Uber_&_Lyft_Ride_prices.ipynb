{
 "cells": [
  {
   "cell_type": "markdown",
   "id": "a4249c2a",
   "metadata": {
    "id": "e9fea931"
   },
   "source": [
    "In the name of ALLAH, The Most Beneficient, The Most Merciful"
   ]
  },
  {
   "cell_type": "markdown",
   "id": "7a55aac5",
   "metadata": {
    "id": "ae1732fe"
   },
   "source": [
    "# Uber & Lyft ride prices"
   ]
  },
  {
   "cell_type": "markdown",
   "id": "04bb0bdf",
   "metadata": {
    "id": "IcT-xwcSPQPw"
   },
   "source": [
    "**Credits: RaviMunde**\n",
    "\n",
    "    https://www.kaggle.com/code/ravi72munde/starter-uber-lyft-ride-prices-random-forrest/notebook"
   ]
  },
  {
   "cell_type": "code",
   "execution_count": null,
   "id": "1334d297",
   "metadata": {
    "colab": {
     "base_uri": "https://localhost:8080/"
    },
    "id": "_-G-Rgkk4Lel",
    "outputId": "4324b622-53ef-468e-9bf1-846ca5cd0dc6"
   },
   "outputs": [
    {
     "name": "stdout",
     "output_type": "stream",
     "text": [
      "Drive already mounted at /content/drive; to attempt to forcibly remount, call drive.mount(\"/content/drive\", force_remount=True).\n"
     ]
    }
   ],
   "source": [
    "from google.colab import drive\n",
    "drive.mount('/content/drive')"
   ]
  },
  {
   "cell_type": "code",
   "execution_count": null,
   "id": "38688472",
   "metadata": {
    "id": "f64bffb7"
   },
   "outputs": [],
   "source": [
    "import pandas as pd\n",
    "import numpy as np\n",
    "\n",
    "from sklearn.model_selection import train_test_split\n",
    "from sklearn.ensemble import RandomForestRegressor,RandomForestClassifier"
   ]
  },
  {
   "cell_type": "code",
   "execution_count": null,
   "id": "bd56645e",
   "metadata": {
    "id": "HCpAW03e2M4k"
   },
   "outputs": [],
   "source": [
    "datapath_cab_rides = '/content/drive/MyDrive/cab_rides.csv'\n",
    "datapath_weather = '/content/drive/MyDrive/weather.csv'"
   ]
  },
  {
   "cell_type": "code",
   "execution_count": null,
   "id": "becd0831",
   "metadata": {
    "id": "cf133ff3"
   },
   "outputs": [],
   "source": [
    "cab_df = pd.read_csv(datapath_cab_rides, delimiter='\\t', encoding = \"utf-16\")\n",
    "weather_df = pd.read_csv(datapath_weather, delimiter='\\t', encoding = \"utf-16\")"
   ]
  },
  {
   "cell_type": "code",
   "execution_count": null,
   "id": "f71b0d47",
   "metadata": {
    "collapsed": true,
    "id": "099a29c2"
   },
   "outputs": [],
   "source": [
    "cab_df.head()"
   ]
  },
  {
   "cell_type": "code",
   "execution_count": null,
   "id": "f6c81b7e",
   "metadata": {
    "id": "4fbd2f66"
   },
   "outputs": [],
   "source": [
    "cab_df.describe()\n",
    "# So the describe method is used for numerical data only."
   ]
  },
  {
   "cell_type": "code",
   "execution_count": null,
   "id": "11fd76e3",
   "metadata": {
    "collapsed": true,
    "id": "fa1bb235"
   },
   "outputs": [],
   "source": [
    "\"\"\"\n",
    "About the cab_data:\n",
    "\n",
    "- It contains 693071 records\n",
    "- I think there are only 06 usable input columns, 01 output column out of\n",
    "total 10 columns.\n",
    "- The data is showing price based on distance, dest, source, cab_type, \n",
    "surge_mult, prod_id, and name.\n",
    "    - I think timestamp also matters\n",
    "    - Distance and dest+source are complementary features.\n",
    "- Grouping(of rows) is based on distance, timestamp, source, dest, also cab_type.\n",
    "    - Do you want to know how many total groups exist?\n",
    "    - Do you want to know min, max, and mean length groups?\n",
    "Useless column:\n",
    "    - I think prod_id column is useless because the name column already exists.\n",
    "Maybe cab_type column is also useless \n",
    "    - Maybe ID column is also useless\n",
    "\n",
    "Relationship:\n",
    "- Only time_stamp and dest and source is connected to weather_df\n",
    "    - As weather_df has only two related features i.e. location and timestamp.\n",
    "    - [Rescaled ahead] But there is value difference in the time_stamp. No. of digits = 12 & 9\n",
    "        - 9 digit value denotes standard Unix time.\n",
    "\"\"\"\n",
    "pass"
   ]
  },
  {
   "cell_type": "code",
   "execution_count": null,
   "id": "c269a13b",
   "metadata": {
    "collapsed": true,
    "id": "8c153456"
   },
   "outputs": [],
   "source": [
    "# rough\n",
    "cab_df[\"time_stamp\"].astype('int64')"
   ]
  },
  {
   "cell_type": "code",
   "execution_count": null,
   "id": "2bbd93d9",
   "metadata": {
    "collapsed": true,
    "id": "b22f8be8"
   },
   "outputs": [],
   "source": [
    "weather_df.head()\n",
    "# It contains few records"
   ]
  },
  {
   "cell_type": "code",
   "execution_count": null,
   "id": "2aa4a757",
   "metadata": {
    "colab": {
     "base_uri": "https://localhost:8080/",
     "height": 53
    },
    "collapsed": true,
    "id": "ab6115b0",
    "outputId": "ab4b085d-dbfd-4584-a630-c26d949d2c4b"
   },
   "outputs": [
    {
     "data": {
      "application/vnd.google.colaboratory.intrinsic+json": {
       "type": "string"
      },
      "text/plain": [
       "'\\nAbout weather data:\\n- There are 2 connected columns as location and time_stamp.\\n- 6 weather columns.\\n- Total columns = 8\\n'"
      ]
     },
     "execution_count": 11,
     "metadata": {},
     "output_type": "execute_result"
    }
   ],
   "source": [
    "\"\"\"\n",
    "About weather data:\n",
    "- There are 2 connected columns as location and time_stamp.\n",
    "- 6 weather columns.\n",
    "- Total columns = 8\n",
    "\"\"\""
   ]
  },
  {
   "cell_type": "code",
   "execution_count": null,
   "id": "b817bd93",
   "metadata": {
    "collapsed": true,
    "id": "75727e76"
   },
   "outputs": [],
   "source": [
    "# Add a new column which converts unix to standard date-time.\n",
    "cab_df['date_time'] = pd.to_datetime(cab_df['time_stamp']/1000, unit='s')\n",
    "weather_df['date_time'] = pd.to_datetime(weather_df['time_stamp'], unit='s')\n",
    "cab_df.head()\n",
    "#weather_df.head()"
   ]
  },
  {
   "cell_type": "code",
   "execution_count": null,
   "id": "881b4857",
   "metadata": {
    "collapsed": true,
    "id": "acb6d119"
   },
   "outputs": [],
   "source": [
    "# Dtype of date_time = datetime64[ns]\n",
    "# Dtype of source = object\n",
    "# Dtype of location in weather data = object\n",
    "# cab_df['merge_date'] # dtype = object # run after the next cell"
   ]
  },
  {
   "cell_type": "code",
   "execution_count": null,
   "id": "abd004e3",
   "metadata": {
    "collapsed": true,
    "id": "9c4bd9fd"
   },
   "outputs": [],
   "source": [
    "#merge the datasets to reflect same time for a location\n",
    "    # selecting date and hour only, leaving min and seconds.\n",
    "cab_df['merge_date'] = cab_df.source.astype(str) +\" - \"+ cab_df.date_time.dt.date.astype(\"str\") +\" - \"+ cab_df.date_time.dt.hour.astype(\"str\")\n",
    "weather_df['merge_date'] = weather_df.location.astype(str) +\" - \"+ weather_df.date_time.dt.date.astype(\"str\") +\" - \"+ weather_df.date_time.dt.hour.astype(\"str\")\n",
    "cab_df.head()"
   ]
  },
  {
   "cell_type": "code",
   "execution_count": null,
   "id": "4a093d87",
   "metadata": {
    "id": "ff11564c"
   },
   "outputs": [],
   "source": [
    "# Assigning the new column, index of weather_df\n",
    "weather_df.index = weather_df['merge_date']\n",
    "    # Then why don't you delete the column?\n",
    "#weather_df.head()"
   ]
  },
  {
   "cell_type": "code",
   "execution_count": null,
   "id": "538ca812",
   "metadata": {
    "collapsed": true,
    "id": "88d9c456"
   },
   "outputs": [],
   "source": [
    "# Join both dataframes on the basis of merge_date (source and timestamp)\n",
    "# Records from weather_df will repeated after join\n",
    "pd.set_option('max_columns', None)     #pd.reset_option('max_columns')\n",
    "merged_df = cab_df.join(weather_df,on=['merge_date'],rsuffix ='_w')\n",
    "    #rsuffix means suffix to use from right frame’s overlapping columns.\n",
    "merged_df.head()\n",
    "    # NaN rain is normal because not all the records contain this value."
   ]
  },
  {
   "cell_type": "code",
   "execution_count": null,
   "id": "4aade5ef",
   "metadata": {
    "collapsed": true,
    "id": "d790d1df"
   },
   "outputs": [],
   "source": [
    "# Testing\n",
    "#weather_df.head()\n",
    "#weather_df.loc[weather_df['merge_date'] == 'Haymarket Square - 2018-12-16 - 8']\n",
    "\n",
    "merged_df.isna().sum()\n",
    "#merged_df[merged_df['price'].isna()][:50]\n",
    "# NaN means missing values"
   ]
  },
  {
   "cell_type": "code",
   "execution_count": null,
   "id": "76841534",
   "metadata": {
    "id": "1fb9f846"
   },
   "outputs": [],
   "source": [
    "merged_df['rain'].fillna(0,inplace=True) # inplace helps you to make changes to the mentioned dataframe\n",
    "# Why this column contains NaN values?\n",
    "# Why have you replaced with 0.\n",
    "# Mark it solved"
   ]
  },
  {
   "cell_type": "code",
   "execution_count": null,
   "id": "e9cf39b2",
   "metadata": {
    "id": "ae449930"
   },
   "outputs": [],
   "source": [
    "merged_df = merged_df[pd.notnull(merged_df['date_time_w'])]\n",
    "merged_df = merged_df[pd.notnull(merged_df['price'])]"
   ]
  },
  {
   "cell_type": "code",
   "execution_count": null,
   "id": "af6d3ad1",
   "metadata": {
    "collapsed": true,
    "id": "4e81ca33"
   },
   "outputs": [],
   "source": [
    "#Testing\n",
    "#before: 1269926 rows\n",
    "#after: 1161392 rows\n",
    "#merged_df.date_time.head()"
   ]
  },
  {
   "cell_type": "code",
   "execution_count": null,
   "id": "cfd9c938",
   "metadata": {
    "id": "5676d229"
   },
   "outputs": [],
   "source": [
    "# Add 2 new columns derived from date_time:\n",
    "    #1- day (day of the week from 0 to 6) \n",
    "    #2-hour  \n",
    "merged_df['day'] = merged_df.date_time.dt.dayofweek\n",
    "merged_df['hour'] = merged_df.date_time.dt.hour\n",
    "#merged_df.head()"
   ]
  },
  {
   "cell_type": "code",
   "execution_count": null,
   "id": "ef34971a",
   "metadata": {
    "colab": {
     "base_uri": "https://localhost:8080/"
    },
    "collapsed": true,
    "id": "9b7b524c",
    "outputId": "b91b216c-1957-4095-93f9-7cf92eae4cb3"
   },
   "outputs": [
    {
     "data": {
      "text/plain": [
       "count    1.161392e+06\n",
       "mean     2.389423e+00\n",
       "std      1.759752e+00\n",
       "min      0.000000e+00\n",
       "25%      1.000000e+00\n",
       "50%      2.000000e+00\n",
       "75%      3.000000e+00\n",
       "max      6.000000e+00\n",
       "Name: day, dtype: float64"
      ]
     },
     "execution_count": 22,
     "metadata": {},
     "output_type": "execute_result"
    }
   ],
   "source": [
    "merged_df['day'].describe()"
   ]
  },
  {
   "cell_type": "code",
   "execution_count": null,
   "id": "a5659c02",
   "metadata": {
    "id": "60dd6028"
   },
   "outputs": [],
   "source": [
    "merged_df.columns"
   ]
  },
  {
   "cell_type": "code",
   "execution_count": null,
   "id": "e9d973b9",
   "metadata": {
    "collapsed": true,
    "id": "9624da4e"
   },
   "outputs": [],
   "source": [
    "merged_df.count() #All columns have a length of 1161392"
   ]
  },
  {
   "cell_type": "code",
   "execution_count": null,
   "id": "ec3ff8a9",
   "metadata": {
    "id": "51d54ad2"
   },
   "outputs": [],
   "source": [
    "# Choose lyft_line product_id only with 3 non-weather features and 6 weather features\n",
    "X = merged_df[merged_df.product_id=='lyft_line'][['day','distance','hour','temp','clouds', 'pressure','humidity', 'wind', 'rain']]\n",
    "#X.count() # Length decreases to 91041"
   ]
  },
  {
   "cell_type": "code",
   "execution_count": null,
   "id": "009240f1",
   "metadata": {
    "id": "f5af2268"
   },
   "outputs": [],
   "source": [
    "y = merged_df[merged_df.product_id=='lyft_line']['price']\n",
    "#y.count() # 91041"
   ]
  },
  {
   "cell_type": "code",
   "execution_count": null,
   "id": "eb268b2f",
   "metadata": {
    "id": "dtJ-5T5j7Erk"
   },
   "outputs": [],
   "source": [
    "# Why we chose Lyft_line only? I know it is just 8% of the data \n",
    "  #extra note: means we can accomodate 12.5 more product ids with the same size for each."
   ]
  },
  {
   "cell_type": "code",
   "execution_count": null,
   "id": "0badec67",
   "metadata": {
    "collapsed": true,
    "id": "4de7a815"
   },
   "outputs": [],
   "source": [
    "# Run only once\n",
    "X.reset_index(inplace=True) # because the order of index has been effected\n",
    "X = X.drop(columns=['index'])\n",
    "X.head(50)"
   ]
  },
  {
   "cell_type": "code",
   "execution_count": null,
   "id": "66295aba",
   "metadata": {
    "colab": {
     "base_uri": "https://localhost:8080/",
     "height": 206
    },
    "id": "3bbd0c67",
    "outputId": "28acea50-dbb0-4d8d-ae19-bcb8cbd702a7"
   },
   "outputs": [
    {
     "data": {
      "text/html": [
       "\n",
       "  <div id=\"df-4ba14eb7-c802-48e2-970c-64a9cba9d0e8\">\n",
       "    <div class=\"colab-df-container\">\n",
       "      <div>\n",
       "<style scoped>\n",
       "    .dataframe tbody tr th:only-of-type {\n",
       "        vertical-align: middle;\n",
       "    }\n",
       "\n",
       "    .dataframe tbody tr th {\n",
       "        vertical-align: top;\n",
       "    }\n",
       "\n",
       "    .dataframe thead th {\n",
       "        text-align: right;\n",
       "    }\n",
       "</style>\n",
       "<table border=\"1\" class=\"dataframe\">\n",
       "  <thead>\n",
       "    <tr style=\"text-align: right;\">\n",
       "      <th></th>\n",
       "      <th>day</th>\n",
       "      <th>distance</th>\n",
       "      <th>hour</th>\n",
       "      <th>temp</th>\n",
       "      <th>clouds</th>\n",
       "      <th>pressure</th>\n",
       "      <th>humidity</th>\n",
       "      <th>wind</th>\n",
       "      <th>rain</th>\n",
       "    </tr>\n",
       "  </thead>\n",
       "  <tbody>\n",
       "    <tr>\n",
       "      <th>0</th>\n",
       "      <td>6</td>\n",
       "      <td>0.44</td>\n",
       "      <td>8</td>\n",
       "      <td>39.36</td>\n",
       "      <td>0.39</td>\n",
       "      <td>1022.44</td>\n",
       "      <td>0.74</td>\n",
       "      <td>8.14</td>\n",
       "      <td>0.0000</td>\n",
       "    </tr>\n",
       "    <tr>\n",
       "      <th>1</th>\n",
       "      <td>1</td>\n",
       "      <td>1.08</td>\n",
       "      <td>0</td>\n",
       "      <td>43.96</td>\n",
       "      <td>1.00</td>\n",
       "      <td>1006.26</td>\n",
       "      <td>0.90</td>\n",
       "      <td>9.86</td>\n",
       "      <td>0.0497</td>\n",
       "    </tr>\n",
       "    <tr>\n",
       "      <th>2</th>\n",
       "      <td>1</td>\n",
       "      <td>1.08</td>\n",
       "      <td>0</td>\n",
       "      <td>43.83</td>\n",
       "      <td>0.97</td>\n",
       "      <td>1005.90</td>\n",
       "      <td>0.91</td>\n",
       "      <td>10.93</td>\n",
       "      <td>0.2173</td>\n",
       "    </tr>\n",
       "    <tr>\n",
       "      <th>3</th>\n",
       "      <td>1</td>\n",
       "      <td>1.08</td>\n",
       "      <td>0</td>\n",
       "      <td>43.82</td>\n",
       "      <td>0.97</td>\n",
       "      <td>1005.87</td>\n",
       "      <td>0.91</td>\n",
       "      <td>11.02</td>\n",
       "      <td>0.2039</td>\n",
       "    </tr>\n",
       "    <tr>\n",
       "      <th>4</th>\n",
       "      <td>1</td>\n",
       "      <td>1.08</td>\n",
       "      <td>0</td>\n",
       "      <td>43.82</td>\n",
       "      <td>0.97</td>\n",
       "      <td>1005.89</td>\n",
       "      <td>0.91</td>\n",
       "      <td>10.94</td>\n",
       "      <td>0.2154</td>\n",
       "    </tr>\n",
       "  </tbody>\n",
       "</table>\n",
       "</div>\n",
       "      <button class=\"colab-df-convert\" onclick=\"convertToInteractive('df-4ba14eb7-c802-48e2-970c-64a9cba9d0e8')\"\n",
       "              title=\"Convert this dataframe to an interactive table.\"\n",
       "              style=\"display:none;\">\n",
       "        \n",
       "  <svg xmlns=\"http://www.w3.org/2000/svg\" height=\"24px\"viewBox=\"0 0 24 24\"\n",
       "       width=\"24px\">\n",
       "    <path d=\"M0 0h24v24H0V0z\" fill=\"none\"/>\n",
       "    <path d=\"M18.56 5.44l.94 2.06.94-2.06 2.06-.94-2.06-.94-.94-2.06-.94 2.06-2.06.94zm-11 1L8.5 8.5l.94-2.06 2.06-.94-2.06-.94L8.5 2.5l-.94 2.06-2.06.94zm10 10l.94 2.06.94-2.06 2.06-.94-2.06-.94-.94-2.06-.94 2.06-2.06.94z\"/><path d=\"M17.41 7.96l-1.37-1.37c-.4-.4-.92-.59-1.43-.59-.52 0-1.04.2-1.43.59L10.3 9.45l-7.72 7.72c-.78.78-.78 2.05 0 2.83L4 21.41c.39.39.9.59 1.41.59.51 0 1.02-.2 1.41-.59l7.78-7.78 2.81-2.81c.8-.78.8-2.07 0-2.86zM5.41 20L4 18.59l7.72-7.72 1.47 1.35L5.41 20z\"/>\n",
       "  </svg>\n",
       "      </button>\n",
       "      \n",
       "  <style>\n",
       "    .colab-df-container {\n",
       "      display:flex;\n",
       "      flex-wrap:wrap;\n",
       "      gap: 12px;\n",
       "    }\n",
       "\n",
       "    .colab-df-convert {\n",
       "      background-color: #E8F0FE;\n",
       "      border: none;\n",
       "      border-radius: 50%;\n",
       "      cursor: pointer;\n",
       "      display: none;\n",
       "      fill: #1967D2;\n",
       "      height: 32px;\n",
       "      padding: 0 0 0 0;\n",
       "      width: 32px;\n",
       "    }\n",
       "\n",
       "    .colab-df-convert:hover {\n",
       "      background-color: #E2EBFA;\n",
       "      box-shadow: 0px 1px 2px rgba(60, 64, 67, 0.3), 0px 1px 3px 1px rgba(60, 64, 67, 0.15);\n",
       "      fill: #174EA6;\n",
       "    }\n",
       "\n",
       "    [theme=dark] .colab-df-convert {\n",
       "      background-color: #3B4455;\n",
       "      fill: #D2E3FC;\n",
       "    }\n",
       "\n",
       "    [theme=dark] .colab-df-convert:hover {\n",
       "      background-color: #434B5C;\n",
       "      box-shadow: 0px 1px 3px 1px rgba(0, 0, 0, 0.15);\n",
       "      filter: drop-shadow(0px 1px 2px rgba(0, 0, 0, 0.3));\n",
       "      fill: #FFFFFF;\n",
       "    }\n",
       "  </style>\n",
       "\n",
       "      <script>\n",
       "        const buttonEl =\n",
       "          document.querySelector('#df-4ba14eb7-c802-48e2-970c-64a9cba9d0e8 button.colab-df-convert');\n",
       "        buttonEl.style.display =\n",
       "          google.colab.kernel.accessAllowed ? 'block' : 'none';\n",
       "\n",
       "        async function convertToInteractive(key) {\n",
       "          const element = document.querySelector('#df-4ba14eb7-c802-48e2-970c-64a9cba9d0e8');\n",
       "          const dataTable =\n",
       "            await google.colab.kernel.invokeFunction('convertToInteractive',\n",
       "                                                     [key], {});\n",
       "          if (!dataTable) return;\n",
       "\n",
       "          const docLinkHtml = 'Like what you see? Visit the ' +\n",
       "            '<a target=\"_blank\" href=https://colab.research.google.com/notebooks/data_table.ipynb>data table notebook</a>'\n",
       "            + ' to learn more about interactive tables.';\n",
       "          element.innerHTML = '';\n",
       "          dataTable['output_type'] = 'display_data';\n",
       "          await google.colab.output.renderOutput(dataTable, element);\n",
       "          const docLink = document.createElement('div');\n",
       "          docLink.innerHTML = docLinkHtml;\n",
       "          element.appendChild(docLink);\n",
       "        }\n",
       "      </script>\n",
       "    </div>\n",
       "  </div>\n",
       "  "
      ],
      "text/plain": [
       "   day  distance  hour   temp  clouds  pressure  humidity   wind    rain\n",
       "0    6      0.44     8  39.36    0.39   1022.44      0.74   8.14  0.0000\n",
       "1    1      1.08     0  43.96    1.00   1006.26      0.90   9.86  0.0497\n",
       "2    1      1.08     0  43.83    0.97   1005.90      0.91  10.93  0.2173\n",
       "3    1      1.08     0  43.82    0.97   1005.87      0.91  11.02  0.2039\n",
       "4    1      1.08     0  43.82    0.97   1005.89      0.91  10.94  0.2154"
      ]
     },
     "execution_count": 29,
     "metadata": {},
     "output_type": "execute_result"
    }
   ],
   "source": [
    "features = pd.get_dummies(X) # No need for this line, we can use X also\n",
    "features.head()\n",
    "# features.shape # = (91041, 9)"
   ]
  },
  {
   "cell_type": "code",
   "execution_count": null,
   "id": "5722b7b2",
   "metadata": {
    "id": "de91cb30"
   },
   "outputs": [],
   "source": [
    "#s = pd.Series(list('abca'))\n",
    "#pd.get_dummies(s)\n",
    "#type(X)\n",
    "\n",
    "#features.equals(X) # True"
   ]
  },
  {
   "cell_type": "code",
   "execution_count": null,
   "id": "3683e5e2",
   "metadata": {
    "id": "2f1791d4"
   },
   "outputs": [],
   "source": [
    "features.columns"
   ]
  },
  {
   "cell_type": "code",
   "execution_count": null,
   "id": "7c0d603d",
   "metadata": {
    "id": "55fafaed"
   },
   "outputs": [],
   "source": [
    "y.head() # y index is out of order # no problem"
   ]
  },
  {
   "cell_type": "code",
   "execution_count": null,
   "id": "94d9cbce",
   "metadata": {
    "collapsed": true,
    "id": "4e25ad91"
   },
   "outputs": [],
   "source": [
    "labels = np.array(y) # converts pandas series to numpy array\n",
    "\n",
    "# Saving feature names for later use\n",
    "feature_list = list(features.columns)\n",
    "# Convert to numpy array\n",
    "features = np.array(features) # converts pandas dataframe to numpy array\n",
    "\n",
    "print(labels)\n",
    "print(features[:5])"
   ]
  },
  {
   "cell_type": "code",
   "execution_count": null,
   "id": "6dc1dbf9",
   "metadata": {
    "colab": {
     "base_uri": "https://localhost:8080/"
    },
    "id": "6fc53953",
    "outputId": "5f8ac8d8-178e-4ade-b4dc-c5eed30b04dc"
   },
   "outputs": [
    {
     "name": "stdout",
     "output_type": "stream",
     "text": [
      "Training Features Shape: (68280, 9)\n",
      "Training Labels Shape: (68280,)\n",
      "Testing Features Shape: (22761, 9)\n",
      "Testing Labels Shape: (22761,)\n"
     ]
    }
   ],
   "source": [
    "train_features, test_features, train_labels, test_labels = train_test_split(features,\n",
    "    labels, test_size = 0.25, random_state = 42)\n",
    "\n",
    "print('Training Features Shape:', train_features.shape)\n",
    "print('Training Labels Shape:', train_labels.shape)\n",
    "print('Testing Features Shape:', test_features.shape)\n",
    "print('Testing Labels Shape:', test_labels.shape)"
   ]
  },
  {
   "cell_type": "code",
   "execution_count": null,
   "id": "de93e0bc",
   "metadata": {
    "colab": {
     "base_uri": "https://localhost:8080/"
    },
    "id": "CbkaS1aJEqHW",
    "outputId": "fc04d4d5-2250-44dd-9795-d23dbc3e630a"
   },
   "outputs": [
    {
     "data": {
      "text/plain": [
       "22.5"
      ]
     },
     "execution_count": 52,
     "metadata": {},
     "output_type": "execute_result"
    }
   ],
   "source": [
    "#Testing\n",
    "#y #dtype: float64\n",
    "#max(y) #22.5"
   ]
  },
  {
   "cell_type": "markdown",
   "id": "17d3340d",
   "metadata": {},
   "source": [
    "#### Random Forest - Price Prediction"
   ]
  },
  {
   "cell_type": "code",
   "execution_count": null,
   "id": "e1d153c3",
   "metadata": {
    "colab": {
     "base_uri": "https://localhost:8080/"
    },
    "id": "1d33e668",
    "outputId": "6f83f14b-4619-49be-e685-699005541c31"
   },
   "outputs": [
    {
     "data": {
      "text/plain": [
       "RandomForestRegressor(n_estimators=1000, random_state=42)"
      ]
     },
     "execution_count": 39,
     "metadata": {},
     "output_type": "execute_result"
    }
   ],
   "source": [
    "# Instantiate model with 1000 decision trees\n",
    "rf = RandomForestRegressor(n_estimators = 1000, random_state = 42)\n",
    "# Train the model on training data\n",
    "rf.fit(train_features, train_labels)"
   ]
  },
  {
   "cell_type": "code",
   "execution_count": null,
   "id": "9dd123df",
   "metadata": {
    "colab": {
     "base_uri": "https://localhost:8080/"
    },
    "id": "8d7d3872",
    "outputId": "39bd72e1-ad7d-4ce9-83d4-612dede0d0c9"
   },
   "outputs": [
    {
     "name": "stdout",
     "output_type": "stream",
     "text": [
      "Mean Absolute Error: 0.44 degrees.\n"
     ]
    }
   ],
   "source": [
    "# Use the forest's predict method on the test data\n",
    "predictions = rf.predict(test_features)\n",
    "# Calculate the absolute errors\n",
    "errors = abs(predictions - test_labels)\n",
    "# Print out the mean absolute error (mae)\n",
    "print('Mean Absolute Error:', round(np.mean(errors), 2), 'degrees.')"
   ]
  },
  {
   "cell_type": "code",
   "execution_count": null,
   "id": "9c84bb51",
   "metadata": {
    "colab": {
     "base_uri": "https://localhost:8080/"
    },
    "id": "84ee131e",
    "outputId": "02bc1499-b1cf-4a1e-ead7-e94652ec3c67"
   },
   "outputs": [
    {
     "name": "stdout",
     "output_type": "stream",
     "text": [
      "Accuracy: 91.86 %.\n"
     ]
    }
   ],
   "source": [
    "# Calculate mean absolute percentage error (MAPE)\n",
    "mape = 100 * (errors / test_labels)\n",
    "# Calculate and display accuracy\n",
    "accuracy = 100 - np.mean(mape)\n",
    "print('Accuracy:', round(accuracy, 2), '%.')"
   ]
  },
  {
   "cell_type": "code",
   "execution_count": null,
   "id": "68dd5b95",
   "metadata": {
    "id": "26641929",
    "outputId": "719bc668-0707-4bba-c640-e889f9ef1458"
   },
   "outputs": [
    {
     "name": "stdout",
     "output_type": "stream",
     "text": [
      "Variable: distance             Importance: 0.66\n",
      "Variable: pressure             Importance: 0.1\n",
      "Variable: day                  Importance: 0.07\n",
      "Variable: hour                 Importance: 0.05\n",
      "Variable: temp                 Importance: 0.05\n",
      "Variable: wind                 Importance: 0.03\n",
      "Variable: clouds               Importance: 0.02\n",
      "Variable: humidity             Importance: 0.02\n",
      "Variable: rain                 Importance: 0.01\n"
     ]
    }
   ],
   "source": [
    "# Get numerical feature importances\n",
    "importances = list(rf.feature_importances_)\n",
    "# List of tuples with variable and importance\n",
    "feature_importances = [(feature, round(importance, 2)) for feature, importance in zip(feature_list, importances)]\n",
    "# Sort the feature importances by most important first\n",
    "feature_importances = sorted(feature_importances, key = lambda x: x[1], reverse = True)\n",
    "# Print out the feature and importances \n",
    "[print('Variable: {:20} Importance: {}'.format(*pair)) for pair in feature_importances];"
   ]
  },
  {
   "cell_type": "markdown",
   "id": "c6f9782a",
   "metadata": {
    "id": "tu1ZmVrEDihn"
   },
   "source": [
    "Why is pressure important?"
   ]
  },
  {
   "cell_type": "markdown",
   "id": "12d11abf",
   "metadata": {
    "id": "034d06b6"
   },
   "source": [
    "#### Random Forest - Surge_multiplier prediction"
   ]
  },
  {
   "cell_type": "code",
   "execution_count": null,
   "id": "99a571df",
   "metadata": {
    "id": "ed67474f"
   },
   "outputs": [],
   "source": [
    "merged_df_surge = merged_df[merged_df.surge_multiplier < 3]\n",
    "X = merged_df_surge[['day','hour','temp','clouds', 'pressure','humidity', 'wind', 'rain']]\n",
    "#X.count()"
   ]
  },
  {
   "cell_type": "code",
   "execution_count": null,
   "id": "58d46cf4",
   "metadata": {
    "colab": {
     "base_uri": "https://localhost:8080/"
    },
    "id": "3092276c",
    "outputId": "76ead535-9799-40fa-a24d-44ac559def64"
   },
   "outputs": [
    {
     "name": "stdout",
     "output_type": "stream",
     "text": [
      "(1161392, 24)\n",
      "(1161380, 24)\n"
     ]
    }
   ],
   "source": [
    "print(merged_df.shape)\n",
    "print(merged_df_surge.shape)\n",
    "#merged_df[merged_df.surge_multiplier >= 3]"
   ]
  },
  {
   "cell_type": "code",
   "execution_count": null,
   "id": "ca09005c",
   "metadata": {
    "id": "55515ab9"
   },
   "outputs": [],
   "source": [
    "features = pd.get_dummies(X)\n",
    "#features.equals(X) #True"
   ]
  },
  {
   "cell_type": "code",
   "execution_count": null,
   "id": "d3dea744",
   "metadata": {
    "id": "131a77cf"
   },
   "outputs": [],
   "source": [
    "y = merged_df_surge['surge_multiplier']\n",
    "from sklearn import preprocessing\n",
    "le = preprocessing.LabelEncoder()\n",
    "len(y) # len=1161380 .Indexing of y is incorrect, therefore I've checked length.\n",
    "#ignoring multiplier of 3 as there are only 2 values in our dataset\n",
    "    # Me: not 2, its 12\n",
    "le.fit([1,1.25,1.5,1.75,2.,2.25,2.5])\n",
    "y2 = le.transform(y) "
   ]
  },
  {
   "cell_type": "code",
   "execution_count": null,
   "id": "5cdcfcc2",
   "metadata": {
    "colab": {
     "base_uri": "https://localhost:8080/"
    },
    "id": "7ec1b208",
    "outputId": "3c5df6b0-1841-48f8-d844-1bb47fe0bdb5"
   },
   "outputs": [
    {
     "data": {
      "text/plain": [
       "array([0, 1, 2, 3, 4, 6])"
      ]
     },
     "execution_count": 64,
     "metadata": {},
     "output_type": "execute_result"
    }
   ],
   "source": [
    "#Testing\n",
    "#type(y) # numpy array\n",
    "#np.array_equal(np.array(y), y2) # False\n",
    "#np.array(y)[1000:2000], y2[1000:2000]\n",
    "#np.unique(np.array(y)) # = array([1.  , 1.25, 1.5 , 1.75, 2.  , 2.5 ])\n",
    "np.unique(y2)"
   ]
  },
  {
   "cell_type": "code",
   "execution_count": null,
   "id": "32997391",
   "metadata": {
    "id": "030936bf"
   },
   "outputs": [],
   "source": [
    "labels = np.array(y2)\n",
    "\n",
    "feature_list = list(X.columns)\n",
    "# Convert to numpy array\n",
    "features = np.array(features)"
   ]
  },
  {
   "cell_type": "code",
   "execution_count": null,
   "id": "10ea969f",
   "metadata": {
    "colab": {
     "base_uri": "https://localhost:8080/"
    },
    "id": "05ee4170",
    "outputId": "3dca083b-77fe-464c-ad7e-ab8caa39c6dd"
   },
   "outputs": [
    {
     "name": "stdout",
     "output_type": "stream",
     "text": [
      "Training Features Shape: (871035, 8)\n",
      "Testing Features Shape: (290345, 8)\n"
     ]
    }
   ],
   "source": [
    "train_features, test_features, train_labels, test_labels = train_test_split(features,\n",
    "    labels, test_size = 0.25, random_state = 42)\n",
    "\n",
    "print('Training Features Shape:', train_features.shape) # (871035, 8)\n",
    "print('Testing Features Shape:', test_features.shape) # (290345, 8)"
   ]
  },
  {
   "cell_type": "code",
   "execution_count": null,
   "id": "468764d5",
   "metadata": {
    "id": "9a1ea5be"
   },
   "outputs": [],
   "source": [
    "#Testing\n",
    "#(np.count_nonzero(y == 1)/len(y))*100 # 97.5%"
   ]
  },
  {
   "cell_type": "code",
   "execution_count": null,
   "id": "87983e9a",
   "metadata": {
    "id": "f117703f"
   },
   "outputs": [],
   "source": [
    "#The dataset is imbalanced when it comes to surge multipliers.\n",
    "#More than 95% of the data has a surge multiplier of 1.\n",
    "#We use SMOTE for blancing the training data"
   ]
  },
  {
   "cell_type": "code",
   "execution_count": null,
   "id": "ed09d76b",
   "metadata": {
    "id": "9453cc3c"
   },
   "outputs": [],
   "source": [
    "# Some installations\n",
    "\n",
    "#!pip install -U imbalanced-learn\n",
    "#!pip install delayed"
   ]
  },
  {
   "cell_type": "code",
   "execution_count": null,
   "id": "dc025fbd",
   "metadata": {
    "colab": {
     "base_uri": "https://localhost:8080/"
    },
    "id": "aca70d1a",
    "outputId": "332ca0cf-321f-4b99-9595-67057d9886f7"
   },
   "outputs": [
    {
     "name": "stdout",
     "output_type": "stream",
     "text": [
      "Training Features Shape: (5096064, 8)\n"
     ]
    }
   ],
   "source": [
    "# Balance train data only\n",
    "# warning: run only once\n",
    "from imblearn.over_sampling import SMOTE\n",
    "\n",
    "sm = SMOTE(random_state=42)\n",
    "train_features, train_labels = sm.fit_resample(train_features, train_labels)\n",
    "\n",
    "print('Training Features Shape:', train_features.shape) # (5096064, 8)"
   ]
  },
  {
   "cell_type": "code",
   "execution_count": null,
   "id": "3eef2173",
   "metadata": {
    "id": "1c7168ce"
   },
   "outputs": [],
   "source": [
    "# The above cell has increased the rows of training features from 871k to 5096k.\n",
    "    # (5.85 times increase)\n",
    "#Testing\n",
    "#unique, counts = np.unique(train_labels, return_counts=True)\n",
    "#print(np.asarray((unique, counts)).T) # Wow! 6 classes of same length"
   ]
  },
  {
   "cell_type": "code",
   "execution_count": null,
   "id": "767544fc",
   "metadata": {
    "colab": {
     "base_uri": "https://localhost:8080/"
    },
    "id": "152c1290",
    "outputId": "98b04684-6339-4223-df98-f730d4ee1d00"
   },
   "outputs": [
    {
     "data": {
      "text/plain": [
       "RandomForestClassifier(class_weight='balanced', n_jobs=-1, random_state=42)"
      ]
     },
     "execution_count": 72,
     "metadata": {},
     "output_type": "execute_result"
    }
   ],
   "source": [
    "# Extra note: This is different. The previous one was RandomForestRegressor \n",
    "# Extra note: This cell takes time, more than 10mins\n",
    "rf = RandomForestClassifier(n_jobs=-1, random_state = 42,class_weight=\"balanced\")\n",
    "    # Please note that I have tried n_estimators=1000\n",
    "        # result: negligible improvement\n",
    "# Train the model on training data\n",
    "rf.fit(train_features, train_labels)"
   ]
  },
  {
   "cell_type": "code",
   "execution_count": null,
   "id": "6fff3c1c",
   "metadata": {
    "id": "a8c2e6f7"
   },
   "outputs": [],
   "source": [
    "# Me: I need to revise randomforest regressor and classifier"
   ]
  },
  {
   "cell_type": "code",
   "execution_count": null,
   "id": "22bc4ddf",
   "metadata": {
    "colab": {
     "base_uri": "https://localhost:8080/"
    },
    "id": "1b80a191",
    "outputId": "e6680124-fa31-4ee0-cf43-f25c15886063"
   },
   "outputs": [
    {
     "name": "stdout",
     "output_type": "stream",
     "text": [
      "Mean Absolute Error: 0.45 degrees.\n"
     ]
    }
   ],
   "source": [
    "# Use the forest's predict method on the test data\n",
    "predictions = rf.predict(test_features)\n",
    "# Calculate the absolute errors\n",
    "errors = abs(predictions - test_labels)\n",
    "# Print out the mean absolute error (mae)\n",
    "print('Mean Absolute Error:', round(np.mean(errors), 2), 'degrees.')"
   ]
  },
  {
   "cell_type": "code",
   "execution_count": null,
   "id": "20768466",
   "metadata": {
    "colab": {
     "base_uri": "https://localhost:8080/"
    },
    "id": "324a3d4c",
    "outputId": "e65c2592-9dfe-4a4a-9638-0e6eba2a0f18",
    "scrolled": true
   },
   "outputs": [
    {
     "name": "stdout",
     "output_type": "stream",
     "text": [
      "0.9747899096864808\n",
      "0.7635054848542251\n"
     ]
    }
   ],
   "source": [
    "# Calculating the weighted precision score(taking imbalance of the dataset in account)\n",
    "# Me: using test predicitons and test  labels \n",
    "from sklearn.metrics import precision_score, recall_score\n",
    "\n",
    "print(precision_score(test_labels, predictions, average=\"weighted\"))\n",
    "print(recall_score(test_labels, predictions, average=\"micro\"))\n",
    "    # Me: Why sometimes using weighted average and sometimes micro"
   ]
  },
  {
   "cell_type": "code",
   "execution_count": null,
   "id": "58901a10",
   "metadata": {
    "colab": {
     "base_uri": "https://localhost:8080/",
     "height": 269
    },
    "id": "b421e849",
    "outputId": "57b61bc7-98bf-4a46-c080-95b8b81899e6"
   },
   "outputs": [
    {
     "data": {
      "text/html": [
       "\n",
       "  <div id=\"df-cc57ab82-566f-4d39-8ac3-1a8bca76f1ba\">\n",
       "    <div class=\"colab-df-container\">\n",
       "      <div>\n",
       "<style scoped>\n",
       "    .dataframe tbody tr th:only-of-type {\n",
       "        vertical-align: middle;\n",
       "    }\n",
       "\n",
       "    .dataframe tbody tr th {\n",
       "        vertical-align: top;\n",
       "    }\n",
       "\n",
       "    .dataframe thead th {\n",
       "        text-align: right;\n",
       "    }\n",
       "</style>\n",
       "<table border=\"1\" class=\"dataframe\">\n",
       "  <thead>\n",
       "    <tr style=\"text-align: right;\">\n",
       "      <th>Predicted</th>\n",
       "      <th>1.00</th>\n",
       "      <th>1.25</th>\n",
       "      <th>1.50</th>\n",
       "      <th>1.75</th>\n",
       "      <th>2.00</th>\n",
       "      <th>2.50</th>\n",
       "    </tr>\n",
       "    <tr>\n",
       "      <th>Actual</th>\n",
       "      <th></th>\n",
       "      <th></th>\n",
       "      <th></th>\n",
       "      <th></th>\n",
       "      <th></th>\n",
       "      <th></th>\n",
       "    </tr>\n",
       "  </thead>\n",
       "  <tbody>\n",
       "    <tr>\n",
       "      <th>1.00</th>\n",
       "      <td>218069</td>\n",
       "      <td>32802</td>\n",
       "      <td>14799</td>\n",
       "      <td>8742</td>\n",
       "      <td>7394</td>\n",
       "      <td>1172</td>\n",
       "    </tr>\n",
       "    <tr>\n",
       "      <th>1.25</th>\n",
       "      <td>253</td>\n",
       "      <td>2278</td>\n",
       "      <td>763</td>\n",
       "      <td>529</td>\n",
       "      <td>368</td>\n",
       "      <td>88</td>\n",
       "    </tr>\n",
       "    <tr>\n",
       "      <th>1.50</th>\n",
       "      <td>10</td>\n",
       "      <td>325</td>\n",
       "      <td>682</td>\n",
       "      <td>373</td>\n",
       "      <td>249</td>\n",
       "      <td>64</td>\n",
       "    </tr>\n",
       "    <tr>\n",
       "      <th>1.75</th>\n",
       "      <td>3</td>\n",
       "      <td>65</td>\n",
       "      <td>102</td>\n",
       "      <td>317</td>\n",
       "      <td>139</td>\n",
       "      <td>79</td>\n",
       "    </tr>\n",
       "    <tr>\n",
       "      <th>2.00</th>\n",
       "      <td>0</td>\n",
       "      <td>24</td>\n",
       "      <td>47</td>\n",
       "      <td>122</td>\n",
       "      <td>320</td>\n",
       "      <td>128</td>\n",
       "    </tr>\n",
       "    <tr>\n",
       "      <th>2.50</th>\n",
       "      <td>0</td>\n",
       "      <td>2</td>\n",
       "      <td>1</td>\n",
       "      <td>5</td>\n",
       "      <td>17</td>\n",
       "      <td>14</td>\n",
       "    </tr>\n",
       "  </tbody>\n",
       "</table>\n",
       "</div>\n",
       "      <button class=\"colab-df-convert\" onclick=\"convertToInteractive('df-cc57ab82-566f-4d39-8ac3-1a8bca76f1ba')\"\n",
       "              title=\"Convert this dataframe to an interactive table.\"\n",
       "              style=\"display:none;\">\n",
       "        \n",
       "  <svg xmlns=\"http://www.w3.org/2000/svg\" height=\"24px\"viewBox=\"0 0 24 24\"\n",
       "       width=\"24px\">\n",
       "    <path d=\"M0 0h24v24H0V0z\" fill=\"none\"/>\n",
       "    <path d=\"M18.56 5.44l.94 2.06.94-2.06 2.06-.94-2.06-.94-.94-2.06-.94 2.06-2.06.94zm-11 1L8.5 8.5l.94-2.06 2.06-.94-2.06-.94L8.5 2.5l-.94 2.06-2.06.94zm10 10l.94 2.06.94-2.06 2.06-.94-2.06-.94-.94-2.06-.94 2.06-2.06.94z\"/><path d=\"M17.41 7.96l-1.37-1.37c-.4-.4-.92-.59-1.43-.59-.52 0-1.04.2-1.43.59L10.3 9.45l-7.72 7.72c-.78.78-.78 2.05 0 2.83L4 21.41c.39.39.9.59 1.41.59.51 0 1.02-.2 1.41-.59l7.78-7.78 2.81-2.81c.8-.78.8-2.07 0-2.86zM5.41 20L4 18.59l7.72-7.72 1.47 1.35L5.41 20z\"/>\n",
       "  </svg>\n",
       "      </button>\n",
       "      \n",
       "  <style>\n",
       "    .colab-df-container {\n",
       "      display:flex;\n",
       "      flex-wrap:wrap;\n",
       "      gap: 12px;\n",
       "    }\n",
       "\n",
       "    .colab-df-convert {\n",
       "      background-color: #E8F0FE;\n",
       "      border: none;\n",
       "      border-radius: 50%;\n",
       "      cursor: pointer;\n",
       "      display: none;\n",
       "      fill: #1967D2;\n",
       "      height: 32px;\n",
       "      padding: 0 0 0 0;\n",
       "      width: 32px;\n",
       "    }\n",
       "\n",
       "    .colab-df-convert:hover {\n",
       "      background-color: #E2EBFA;\n",
       "      box-shadow: 0px 1px 2px rgba(60, 64, 67, 0.3), 0px 1px 3px 1px rgba(60, 64, 67, 0.15);\n",
       "      fill: #174EA6;\n",
       "    }\n",
       "\n",
       "    [theme=dark] .colab-df-convert {\n",
       "      background-color: #3B4455;\n",
       "      fill: #D2E3FC;\n",
       "    }\n",
       "\n",
       "    [theme=dark] .colab-df-convert:hover {\n",
       "      background-color: #434B5C;\n",
       "      box-shadow: 0px 1px 3px 1px rgba(0, 0, 0, 0.15);\n",
       "      filter: drop-shadow(0px 1px 2px rgba(0, 0, 0, 0.3));\n",
       "      fill: #FFFFFF;\n",
       "    }\n",
       "  </style>\n",
       "\n",
       "      <script>\n",
       "        const buttonEl =\n",
       "          document.querySelector('#df-cc57ab82-566f-4d39-8ac3-1a8bca76f1ba button.colab-df-convert');\n",
       "        buttonEl.style.display =\n",
       "          google.colab.kernel.accessAllowed ? 'block' : 'none';\n",
       "\n",
       "        async function convertToInteractive(key) {\n",
       "          const element = document.querySelector('#df-cc57ab82-566f-4d39-8ac3-1a8bca76f1ba');\n",
       "          const dataTable =\n",
       "            await google.colab.kernel.invokeFunction('convertToInteractive',\n",
       "                                                     [key], {});\n",
       "          if (!dataTable) return;\n",
       "\n",
       "          const docLinkHtml = 'Like what you see? Visit the ' +\n",
       "            '<a target=\"_blank\" href=https://colab.research.google.com/notebooks/data_table.ipynb>data table notebook</a>'\n",
       "            + ' to learn more about interactive tables.';\n",
       "          element.innerHTML = '';\n",
       "          dataTable['output_type'] = 'display_data';\n",
       "          await google.colab.output.renderOutput(dataTable, element);\n",
       "          const docLink = document.createElement('div');\n",
       "          docLink.innerHTML = docLinkHtml;\n",
       "          element.appendChild(docLink);\n",
       "        }\n",
       "      </script>\n",
       "    </div>\n",
       "  </div>\n",
       "  "
      ],
      "text/plain": [
       "Predicted    1.00   1.25   1.50  1.75  2.00  2.50\n",
       "Actual                                           \n",
       "1.00       218069  32802  14799  8742  7394  1172\n",
       "1.25          253   2278    763   529   368    88\n",
       "1.50           10    325    682   373   249    64\n",
       "1.75            3     65    102   317   139    79\n",
       "2.00            0     24     47   122   320   128\n",
       "2.50            0      2      1     5    17    14"
      ]
     },
     "execution_count": 76,
     "metadata": {},
     "output_type": "execute_result"
    }
   ],
   "source": [
    "#Confusion Matrix for the Surge Multiplier prediction\n",
    "# Create confusion matrix\n",
    "pd.crosstab(le.inverse_transform(test_labels), le.inverse_transform(predictions),rownames=['Actual'],colnames=['Predicted'])"
   ]
  },
  {
   "cell_type": "code",
   "execution_count": null,
   "id": "1ecabab1",
   "metadata": {
    "colab": {
     "base_uri": "https://localhost:8080/"
    },
    "id": "1353a49a",
    "outputId": "0ad1b319-32c6-44eb-a122-41d0320b8136"
   },
   "outputs": [
    {
     "name": "stdout",
     "output_type": "stream",
     "text": [
      "Variable: temp                 Importance: 0.2\n",
      "Variable: wind                 Importance: 0.2\n",
      "Variable: pressure             Importance: 0.19\n",
      "Variable: humidity             Importance: 0.13\n",
      "Variable: clouds               Importance: 0.09\n",
      "Variable: hour                 Importance: 0.07\n",
      "Variable: day                  Importance: 0.06\n",
      "Variable: rain                 Importance: 0.06\n"
     ]
    }
   ],
   "source": [
    "# Get numerical feature importances\n",
    "importances = list(rf.feature_importances_)\n",
    "feature_importances = [(feature, round(importance, 2)) for feature, importance in zip(feature_list, importances)]\n",
    "# Sort by most important\n",
    "feature_importances = sorted(feature_importances, key = lambda x: x[1], reverse = True)\n",
    "[print('Variable: {:20} Importance: {}'.format(*pair)) for pair in feature_importances];"
   ]
  },
  {
   "cell_type": "code",
   "execution_count": null,
   "id": "8b1d2b52",
   "metadata": {
    "colab": {
     "base_uri": "https://localhost:8080/"
    },
    "id": "ddd8054d",
    "outputId": "0762fabd-5fca-4e78-b2e7-991a40ff4876"
   },
   "outputs": [
    {
     "data": {
      "text/plain": [
       "0.7635054848542251"
      ]
     },
     "execution_count": 78,
     "metadata": {},
     "output_type": "execute_result"
    }
   ],
   "source": [
    "from sklearn.metrics import accuracy_score\n",
    "\n",
    "accuracy_score(test_labels, predictions)"
   ]
  },
  {
   "cell_type": "code",
   "execution_count": null,
   "id": "cdb49d9e",
   "metadata": {
    "id": "4da21a08"
   },
   "outputs": [],
   "source": []
  },
  {
   "cell_type": "markdown",
   "id": "b00767cb",
   "metadata": {
    "id": "WgsiHN81AKwd"
   },
   "source": [
    "### XGBoost\n",
    "for prediction of surge multiplier"
   ]
  },
  {
   "cell_type": "code",
   "execution_count": null,
   "id": "960300be",
   "metadata": {
    "colab": {
     "base_uri": "https://localhost:8080/"
    },
    "id": "28c59c95",
    "outputId": "456a2d07-08ca-4b5b-c067-a7e5406ff3de"
   },
   "outputs": [
    {
     "name": "stdout",
     "output_type": "stream",
     "text": [
      "Looking in indexes: https://pypi.org/simple, https://us-python.pkg.dev/colab-wheels/public/simple/\n",
      "Requirement already satisfied: xgboost in /usr/local/lib/python3.8/dist-packages (0.90)\n",
      "Requirement already satisfied: numpy in /usr/local/lib/python3.8/dist-packages (from xgboost) (1.21.6)\n",
      "Requirement already satisfied: scipy in /usr/local/lib/python3.8/dist-packages (from xgboost) (1.7.3)\n"
     ]
    }
   ],
   "source": [
    "!pip install xgboost"
   ]
  },
  {
   "cell_type": "code",
   "execution_count": null,
   "id": "8360300b",
   "metadata": {
    "colab": {
     "base_uri": "https://localhost:8080/"
    },
    "id": "402973ae",
    "outputId": "b04937c0-9c51-492d-b1e3-f4e14f3a1f4d"
   },
   "outputs": [
    {
     "data": {
      "text/plain": [
       "5096064"
      ]
     },
     "execution_count": 79,
     "metadata": {},
     "output_type": "execute_result"
    }
   ],
   "source": [
    "# Error during fit:\n",
    "    #ValueError: Invalid classes inferred from unique values of `y`.\n",
    "        #Expected: [0 1 2 3 4 5], got [0 1 2 3 4 6]\n",
    "train_labels[train_labels == 6] = 5\n",
    "test_labels[test_labels == 6] = 5\n",
    "len(train_labels)"
   ]
  },
  {
   "cell_type": "code",
   "execution_count": null,
   "id": "94a8da35",
   "metadata": {
    "colab": {
     "base_uri": "https://localhost:8080/",
     "height": 235
    },
    "id": "7b5c5631",
    "outputId": "e1b76cd6-ab99-4d44-b6d6-b75027c09f0f"
   },
   "outputs": [
    {
     "ename": "NameError",
     "evalue": "ignored",
     "output_type": "error",
     "traceback": [
      "\u001b[0;31m---------------------------------------------------------------------------\u001b[0m",
      "\u001b[0;31mNameError\u001b[0m                                 Traceback (most recent call last)",
      "\u001b[0;32m<ipython-input-1-1849821bd3c8>\u001b[0m in \u001b[0;36m<module>\u001b[0;34m\u001b[0m\n\u001b[1;32m      5\u001b[0m \u001b[0;31m# Init classifier\u001b[0m\u001b[0;34m\u001b[0m\u001b[0;34m\u001b[0m\u001b[0;34m\u001b[0m\u001b[0m\n\u001b[1;32m      6\u001b[0m \u001b[0mxgb_cl\u001b[0m \u001b[0;34m=\u001b[0m \u001b[0mxgb\u001b[0m\u001b[0;34m.\u001b[0m\u001b[0mXGBClassifier\u001b[0m\u001b[0;34m(\u001b[0m\u001b[0;34m)\u001b[0m\u001b[0;34m\u001b[0m\u001b[0;34m\u001b[0m\u001b[0m\n\u001b[0;32m----> 7\u001b[0;31m \u001b[0mxgb_cl\u001b[0m\u001b[0;34m.\u001b[0m\u001b[0mfit\u001b[0m\u001b[0;34m(\u001b[0m\u001b[0mtrain_features\u001b[0m\u001b[0;34m,\u001b[0m \u001b[0mtrain_labels\u001b[0m\u001b[0;34m)\u001b[0m\u001b[0;34m\u001b[0m\u001b[0;34m\u001b[0m\u001b[0m\n\u001b[0m\u001b[1;32m      8\u001b[0m \u001b[0;34m\u001b[0m\u001b[0m\n\u001b[1;32m      9\u001b[0m \u001b[0mpreds\u001b[0m \u001b[0;34m=\u001b[0m \u001b[0mxgb_cl\u001b[0m\u001b[0;34m.\u001b[0m\u001b[0mpredict\u001b[0m\u001b[0;34m(\u001b[0m\u001b[0mtest_features\u001b[0m\u001b[0;34m)\u001b[0m\u001b[0;34m\u001b[0m\u001b[0;34m\u001b[0m\u001b[0m\n",
      "\u001b[0;31mNameError\u001b[0m: name 'train_features' is not defined"
     ]
    }
   ],
   "source": [
    "#Time: 8:31 - 9:05\n",
    "import xgboost as xgb\n",
    "from sklearn.metrics import accuracy_score\n",
    "\n",
    "# Init classifier\n",
    "xgb_cl = xgb.XGBClassifier()\n",
    "xgb_cl.fit(train_features, train_labels)\n",
    "\n",
    "preds = xgb_cl.predict(test_features)\n",
    "# Score\n",
    "accuracy_score(test_labels, preds)\n",
    "\n",
    "# Accuracy on local machine = 0.7661506139248135"
   ]
  },
  {
   "cell_type": "code",
   "execution_count": null,
   "id": "7ba34449",
   "metadata": {
    "id": "d887c647"
   },
   "outputs": [],
   "source": [
    "# Try this afterwards:\n",
    "# XGBRegressor(n_estimators = 1000, learning_rate = 0.05) # Your code here\n",
    "\n",
    "# Documentation for XGBClassifier and XGBRegressor:\n",
    "#https://xgboost.readthedocs.io/en/stable/python/python_api.html"
   ]
  },
  {
   "cell_type": "code",
   "execution_count": null,
   "id": "fb4c189d",
   "metadata": {
    "id": "75867246"
   },
   "outputs": [],
   "source": [
    "# XGBoost experiments:\n",
    "'''\n",
    "1- Giving same accuracy as Random Forest normally\n",
    "2- n_estimators = 1000\n",
    "3- n_estimators = 1000, learning_rate = 0.05: \n",
    "'''"
   ]
  },
  {
   "cell_type": "markdown",
   "id": "d1d9797a",
   "metadata": {
    "id": "3a7y53ZFGVnG"
   },
   "source": [
    "### XGBoost\n",
    "for prediction of prices"
   ]
  },
  {
   "cell_type": "code",
   "execution_count": null,
   "id": "72532a53",
   "metadata": {
    "colab": {
     "base_uri": "https://localhost:8080/"
    },
    "id": "N3vaiAE41ptl",
    "outputId": "becb365a-a94c-45a9-91bc-b4536ceaa707"
   },
   "outputs": [
    {
     "name": "stdout",
     "output_type": "stream",
     "text": [
      "[07:16:17] WARNING: /workspace/src/objective/regression_obj.cu:152: reg:linear is now deprecated in favor of reg:squarederror.\n",
      "Mean Absolute Error: 0.67 degrees.\n",
      "Accuracy: 87.46 %.\n"
     ]
    }
   ],
   "source": [
    "import xgboost as xgb\n",
    "\n",
    "# Init classifier\n",
    "xgb_cl = xgb.XGBRegressor(n_estimators = 1000)\n",
    "xgb_cl.fit(train_features, train_labels)\n",
    "\n",
    "preds = xgb_cl.predict(test_features)\n",
    "\n",
    "# Calculate the absolute errors\n",
    "errors = abs(preds - test_labels)\n",
    "# Print out the mean absolute error (mae)\n",
    "print('Mean Absolute Error:', round(np.mean(errors), 2), 'degrees.')\n",
    "\n",
    "# Calculate mean absolute percentage error (MAPE)\n",
    "mape = 100 * (errors / test_labels)\n",
    "# Calculate and display accuracy\n",
    "accuracy = 100 - np.mean(mape)\n",
    "print('Accuracy:', round(accuracy, 2), '%.')"
   ]
  },
  {
   "cell_type": "code",
   "execution_count": null,
   "id": "f25225a7",
   "metadata": {
    "id": "E2LZsJ4V1pwI"
   },
   "outputs": [],
   "source": [
    "# XGBoost experiments:\n",
    "'''\n",
    "1- Accuracy has been decreased from Random Forest from 91.86% to 85.29%\n",
    "2- n_estimators = 1000. result = 87.46%\n",
    "3- n_estimators = 1000, learning_rate = 0.05. result = 86.72%\n",
    "4- n_estimators = 1000, learning_rate = 0.01. result = 85.23%\n",
    "'''"
   ]
  },
  {
   "cell_type": "code",
   "execution_count": null,
   "id": "ad54d1d2",
   "metadata": {
    "id": "XLiHNEM9JhuN"
   },
   "outputs": [],
   "source": []
  },
  {
   "cell_type": "code",
   "execution_count": null,
   "id": "cc435773",
   "metadata": {
    "id": "6NFIWzzbJhxZ"
   },
   "outputs": [],
   "source": []
  },
  {
   "cell_type": "markdown",
   "id": "bcf9e626",
   "metadata": {
    "id": "unBF9q1fJjF8"
   },
   "source": [
    "###**Conclusion:**\n",
    "\n",
    "  **Performace of Random Forest is better than XGBoost**"
   ]
  }
 ],
 "metadata": {
  "accelerator": "GPU",
  "colab": {
   "collapsed_sections": [
    "034d06b6"
   ],
   "provenance": []
  },
  "gpuClass": "standard",
  "kernelspec": {
   "display_name": "Python 3",
   "language": "python",
   "name": "python3"
  },
  "language_info": {
   "codemirror_mode": {
    "name": "ipython",
    "version": 3
   },
   "file_extension": ".py",
   "mimetype": "text/x-python",
   "name": "python",
   "nbconvert_exporter": "python",
   "pygments_lexer": "ipython3",
   "version": "3.7.7"
  }
 },
 "nbformat": 4,
 "nbformat_minor": 5
}
