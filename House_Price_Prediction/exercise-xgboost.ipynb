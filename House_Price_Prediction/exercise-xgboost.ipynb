{
 "cells": [
  {
   "cell_type": "markdown",
   "id": "f808bf0f",
   "metadata": {
    "papermill": {
     "duration": 0.013495,
     "end_time": "2021-10-03T05:58:02.126496",
     "exception": false,
     "start_time": "2021-10-03T05:58:02.113001",
     "status": "completed"
    },
    "tags": []
   },
   "source": [
    "**This notebook is an exercise in the [Intermediate Machine Learning](https://www.kaggle.com/learn/intermediate-machine-learning) course.  You can reference the tutorial at [this link](https://www.kaggle.com/alexisbcook/xgboost).**\n",
    "\n",
    "---\n"
   ]
  },
  {
   "cell_type": "markdown",
   "id": "45784b7a",
   "metadata": {
    "papermill": {
     "duration": 0.012379,
     "end_time": "2021-10-03T05:58:02.153195",
     "exception": false,
     "start_time": "2021-10-03T05:58:02.140816",
     "status": "completed"
    },
    "tags": []
   },
   "source": [
    "In this exercise, you will use your new knowledge to train a model with **gradient boosting**.\n",
    "\n",
    "# Setup\n",
    "\n",
    "The questions below will give you feedback on your work. Run the following cell to set up the feedback system."
   ]
  },
  {
   "cell_type": "code",
   "execution_count": 1,
   "id": "37513d0a",
   "metadata": {
    "execution": {
     "iopub.execute_input": "2021-10-03T05:58:02.187716Z",
     "iopub.status.busy": "2021-10-03T05:58:02.185963Z",
     "iopub.status.idle": "2021-10-03T05:58:04.132043Z",
     "shell.execute_reply": "2021-10-03T05:58:04.132637Z",
     "shell.execute_reply.started": "2021-10-03T05:43:07.108600Z"
    },
    "papermill": {
     "duration": 1.967091,
     "end_time": "2021-10-03T05:58:04.132919",
     "exception": false,
     "start_time": "2021-10-03T05:58:02.165828",
     "status": "completed"
    },
    "tags": []
   },
   "outputs": [
    {
     "name": "stdout",
     "output_type": "stream",
     "text": [
      "Setup Complete\n"
     ]
    }
   ],
   "source": [
    "# Set up code checking\n",
    "import os\n",
    "if not os.path.exists(\"../input/train.csv\"):\n",
    "    os.symlink(\"../input/home-data-for-ml-course/train.csv\", \"../input/train.csv\")  \n",
    "    os.symlink(\"../input/home-data-for-ml-course/test.csv\", \"../input/test.csv\") \n",
    "from learntools.core import binder\n",
    "binder.bind(globals())\n",
    "from learntools.ml_intermediate.ex6 import *\n",
    "print(\"Setup Complete\")"
   ]
  },
  {
   "cell_type": "markdown",
   "id": "5768a93b",
   "metadata": {
    "papermill": {
     "duration": 0.012616,
     "end_time": "2021-10-03T05:58:04.160578",
     "exception": false,
     "start_time": "2021-10-03T05:58:04.147962",
     "status": "completed"
    },
    "tags": []
   },
   "source": [
    "You will work with the [Housing Prices Competition for Kaggle Learn Users](https://www.kaggle.com/c/home-data-for-ml-course) dataset from the previous exercise. \n",
    "\n",
    "![Ames Housing dataset image](https://i.imgur.com/lTJVG4e.png)\n",
    "\n",
    "Run the next code cell without changes to load the training and validation sets in `X_train`, `X_valid`, `y_train`, and `y_valid`.  The test set is loaded in `X_test`."
   ]
  },
  {
   "cell_type": "code",
   "execution_count": 2,
   "id": "ff5327b5",
   "metadata": {
    "execution": {
     "iopub.execute_input": "2021-10-03T05:58:04.194936Z",
     "iopub.status.busy": "2021-10-03T05:58:04.194265Z",
     "iopub.status.idle": "2021-10-03T05:58:04.346508Z",
     "shell.execute_reply": "2021-10-03T05:58:04.345533Z",
     "shell.execute_reply.started": "2021-10-03T05:43:07.118064Z"
    },
    "papermill": {
     "duration": 0.173253,
     "end_time": "2021-10-03T05:58:04.346686",
     "exception": false,
     "start_time": "2021-10-03T05:58:04.173433",
     "status": "completed"
    },
    "tags": []
   },
   "outputs": [],
   "source": [
    "import pandas as pd\n",
    "from sklearn.model_selection import train_test_split\n",
    "\n",
    "# Read the data\n",
    "X = pd.read_csv('../input/train.csv', index_col='Id')\n",
    "X_test_full = pd.read_csv('../input/test.csv', index_col='Id')\n",
    "\n",
    "# Remove rows with missing target, separate target from predictors\n",
    "X.dropna(axis=0, subset=['SalePrice'], inplace=True)\n",
    "y = X.SalePrice              \n",
    "X.drop(['SalePrice'], axis=1, inplace=True)\n",
    "\n",
    "# Break off validation set from training data\n",
    "X_train_full, X_valid_full, y_train, y_valid = train_test_split(X, y, train_size=0.8, test_size=0.2,\n",
    "                                                                random_state=0)\n",
    "\n",
    "# \"Cardinality\" means the number of unique values in a column\n",
    "# Select categorical columns with relatively low cardinality (convenient but arbitrary)\n",
    "low_cardinality_cols = [cname for cname in X_train_full.columns if X_train_full[cname].nunique() < 10 and \n",
    "                        X_train_full[cname].dtype == \"object\"]\n",
    "\n",
    "# Select numeric columns\n",
    "numeric_cols = [cname for cname in X_train_full.columns if X_train_full[cname].dtype in ['int64', 'float64']]\n",
    "\n",
    "# Keep selected columns only\n",
    "my_cols = low_cardinality_cols + numeric_cols\n",
    "X_train = X_train_full[my_cols].copy()\n",
    "X_valid = X_valid_full[my_cols].copy()\n",
    "X_test = X_test_full[my_cols].copy()\n",
    "\n",
    "# One-hot encode the data (to shorten the code, we use pandas)\n",
    "X_train = pd.get_dummies(X_train)\n",
    "X_valid = pd.get_dummies(X_valid)\n",
    "X_test = pd.get_dummies(X_test)\n",
    "X_train, X_valid = X_train.align(X_valid, join='left', axis=1)\n",
    "X_train, X_test = X_train.align(X_test, join='left', axis=1)"
   ]
  },
  {
   "cell_type": "markdown",
   "id": "635df680",
   "metadata": {
    "papermill": {
     "duration": 0.016693,
     "end_time": "2021-10-03T05:58:04.378899",
     "exception": false,
     "start_time": "2021-10-03T05:58:04.362206",
     "status": "completed"
    },
    "tags": []
   },
   "source": [
    "# Step 1: Build model\n",
    "\n",
    "### Part A\n",
    "\n",
    "In this step, you'll build and train your first model with gradient boosting.\n",
    "\n",
    "- Begin by setting `my_model_1` to an XGBoost model.  Use the [XGBRegressor](https://xgboost.readthedocs.io/en/latest/python/python_api.html#xgboost.XGBRegressor) class, and set the random seed to 0 (`random_state=0`).  **Leave all other parameters as default.**\n",
    "- Then, fit the model to the training data in `X_train` and `y_train`."
   ]
  },
  {
   "cell_type": "code",
   "execution_count": 3,
   "id": "497c31f3",
   "metadata": {
    "execution": {
     "iopub.execute_input": "2021-10-03T05:58:04.429393Z",
     "iopub.status.busy": "2021-10-03T05:58:04.418192Z",
     "iopub.status.idle": "2021-10-03T05:58:05.026167Z",
     "shell.execute_reply": "2021-10-03T05:58:05.026541Z",
     "shell.execute_reply.started": "2021-10-03T05:43:07.309506Z"
    },
    "papermill": {
     "duration": 0.633992,
     "end_time": "2021-10-03T05:58:05.026672",
     "exception": false,
     "start_time": "2021-10-03T05:58:04.392680",
     "status": "completed"
    },
    "tags": []
   },
   "outputs": [
    {
     "data": {
      "application/javascript": [
       "parent.postMessage({\"jupyterEvent\": \"custom.exercise_interaction\", \"data\": {\"outcomeType\": 1, \"valueTowardsCompletion\": 0.5, \"interactionType\": 1, \"questionType\": 2, \"questionId\": \"1.1_Model1A\", \"learnToolsVersion\": \"0.3.4\", \"failureMessage\": \"\", \"exceptionClass\": \"\", \"trace\": \"\"}}, \"*\")"
      ],
      "text/plain": [
       "<IPython.core.display.Javascript object>"
      ]
     },
     "metadata": {},
     "output_type": "display_data"
    },
    {
     "data": {
      "text/markdown": [
       "<span style=\"color:#33cc33\">Correct</span>"
      ],
      "text/plain": [
       "Correct"
      ]
     },
     "metadata": {},
     "output_type": "display_data"
    }
   ],
   "source": [
    "from xgboost import XGBRegressor\n",
    "\n",
    "# Define the model\n",
    "my_model_1 = XGBRegressor(random_state=0) # Your code here\n",
    "\n",
    "# Fit the model\n",
    "my_model_1.fit(X_train, y_train) # Your code here\n",
    "\n",
    "# Check your answer\n",
    "step_1.a.check()"
   ]
  },
  {
   "cell_type": "code",
   "execution_count": 4,
   "id": "79043f53",
   "metadata": {
    "execution": {
     "iopub.execute_input": "2021-10-03T05:58:05.058303Z",
     "iopub.status.busy": "2021-10-03T05:58:05.057610Z",
     "iopub.status.idle": "2021-10-03T05:58:05.059911Z",
     "shell.execute_reply": "2021-10-03T05:58:05.060256Z",
     "shell.execute_reply.started": "2021-10-03T05:43:08.003381Z"
    },
    "papermill": {
     "duration": 0.020034,
     "end_time": "2021-10-03T05:58:05.060390",
     "exception": false,
     "start_time": "2021-10-03T05:58:05.040356",
     "status": "completed"
    },
    "tags": []
   },
   "outputs": [],
   "source": [
    "# Lines below will give you a hint or solution code\n",
    "#step_1.a.hint()\n",
    "#step_1.a.solution()"
   ]
  },
  {
   "cell_type": "markdown",
   "id": "82659b97",
   "metadata": {
    "papermill": {
     "duration": 0.014395,
     "end_time": "2021-10-03T05:58:05.088774",
     "exception": false,
     "start_time": "2021-10-03T05:58:05.074379",
     "status": "completed"
    },
    "tags": []
   },
   "source": [
    "### Part B\n",
    "\n",
    "Set `predictions_1` to the model's predictions for the validation data.  Recall that the validation features are stored in `X_valid`."
   ]
  },
  {
   "cell_type": "code",
   "execution_count": 5,
   "id": "961525eb",
   "metadata": {
    "execution": {
     "iopub.execute_input": "2021-10-03T05:58:05.122028Z",
     "iopub.status.busy": "2021-10-03T05:58:05.121387Z",
     "iopub.status.idle": "2021-10-03T05:58:05.135403Z",
     "shell.execute_reply": "2021-10-03T05:58:05.134126Z",
     "shell.execute_reply.started": "2021-10-03T05:43:08.008645Z"
    },
    "papermill": {
     "duration": 0.032748,
     "end_time": "2021-10-03T05:58:05.135542",
     "exception": false,
     "start_time": "2021-10-03T05:58:05.102794",
     "status": "completed"
    },
    "tags": []
   },
   "outputs": [
    {
     "data": {
      "application/javascript": [
       "parent.postMessage({\"jupyterEvent\": \"custom.exercise_interaction\", \"data\": {\"outcomeType\": 1, \"valueTowardsCompletion\": 0.5, \"interactionType\": 1, \"questionType\": 2, \"questionId\": \"1.2_Model1B\", \"learnToolsVersion\": \"0.3.4\", \"failureMessage\": \"\", \"exceptionClass\": \"\", \"trace\": \"\"}}, \"*\")"
      ],
      "text/plain": [
       "<IPython.core.display.Javascript object>"
      ]
     },
     "metadata": {},
     "output_type": "display_data"
    },
    {
     "data": {
      "text/markdown": [
       "<span style=\"color:#33cc33\">Correct</span>"
      ],
      "text/plain": [
       "Correct"
      ]
     },
     "metadata": {},
     "output_type": "display_data"
    }
   ],
   "source": [
    "from sklearn.metrics import mean_absolute_error\n",
    "\n",
    "# Get predictions\n",
    "predictions_1 = my_model_1.predict(X_valid) # Your code here\n",
    "\n",
    "# Check your answer\n",
    "step_1.b.check()"
   ]
  },
  {
   "cell_type": "code",
   "execution_count": 6,
   "id": "0c6acf46",
   "metadata": {
    "execution": {
     "iopub.execute_input": "2021-10-03T05:58:05.169304Z",
     "iopub.status.busy": "2021-10-03T05:58:05.168789Z",
     "iopub.status.idle": "2021-10-03T05:58:05.171000Z",
     "shell.execute_reply": "2021-10-03T05:58:05.171336Z",
     "shell.execute_reply.started": "2021-10-03T05:43:08.036397Z"
    },
    "papermill": {
     "duration": 0.020706,
     "end_time": "2021-10-03T05:58:05.171488",
     "exception": false,
     "start_time": "2021-10-03T05:58:05.150782",
     "status": "completed"
    },
    "tags": []
   },
   "outputs": [],
   "source": [
    "# Lines below will give you a hint or solution code\n",
    "#step_1.b.hint()\n",
    "#step_1.b.solution()"
   ]
  },
  {
   "cell_type": "markdown",
   "id": "5e4b7b85",
   "metadata": {
    "papermill": {
     "duration": 0.014436,
     "end_time": "2021-10-03T05:58:05.200606",
     "exception": false,
     "start_time": "2021-10-03T05:58:05.186170",
     "status": "completed"
    },
    "tags": []
   },
   "source": [
    "### Part C\n",
    "\n",
    "Finally, use the `mean_absolute_error()` function to calculate the mean absolute error (MAE) corresponding to the predictions for the validation set.  Recall that the labels for the validation data are stored in `y_valid`."
   ]
  },
  {
   "cell_type": "code",
   "execution_count": 7,
   "id": "ec8e28c6",
   "metadata": {
    "execution": {
     "iopub.execute_input": "2021-10-03T05:58:05.236105Z",
     "iopub.status.busy": "2021-10-03T05:58:05.232006Z",
     "iopub.status.idle": "2021-10-03T05:58:05.243350Z",
     "shell.execute_reply": "2021-10-03T05:58:05.243935Z",
     "shell.execute_reply.started": "2021-10-03T05:43:08.044593Z"
    },
    "papermill": {
     "duration": 0.028944,
     "end_time": "2021-10-03T05:58:05.244106",
     "exception": false,
     "start_time": "2021-10-03T05:58:05.215162",
     "status": "completed"
    },
    "tags": []
   },
   "outputs": [
    {
     "name": "stdout",
     "output_type": "stream",
     "text": [
      "Mean Absolute Error: 17662.736729452055\n"
     ]
    },
    {
     "data": {
      "application/javascript": [
       "parent.postMessage({\"jupyterEvent\": \"custom.exercise_interaction\", \"data\": {\"outcomeType\": 1, \"valueTowardsCompletion\": 0.5, \"interactionType\": 1, \"questionType\": 2, \"questionId\": \"1.3_Model1C\", \"learnToolsVersion\": \"0.3.4\", \"failureMessage\": \"\", \"exceptionClass\": \"\", \"trace\": \"\"}}, \"*\")"
      ],
      "text/plain": [
       "<IPython.core.display.Javascript object>"
      ]
     },
     "metadata": {},
     "output_type": "display_data"
    },
    {
     "data": {
      "text/markdown": [
       "<span style=\"color:#33cc33\">Correct</span>"
      ],
      "text/plain": [
       "Correct"
      ]
     },
     "metadata": {},
     "output_type": "display_data"
    }
   ],
   "source": [
    "# Calculate MAE\n",
    "mae_1 = mean_absolute_error(predictions_1, y_valid) # Your code here\n",
    "\n",
    "# Uncomment to print MAE\n",
    "print(\"Mean Absolute Error:\" , mae_1)\n",
    "\n",
    "# Check your answer\n",
    "step_1.c.check()"
   ]
  },
  {
   "cell_type": "code",
   "execution_count": 8,
   "id": "9c0faa39",
   "metadata": {
    "execution": {
     "iopub.execute_input": "2021-10-03T05:58:05.296741Z",
     "iopub.status.busy": "2021-10-03T05:58:05.296027Z",
     "iopub.status.idle": "2021-10-03T05:58:05.298040Z",
     "shell.execute_reply": "2021-10-03T05:58:05.298552Z",
     "shell.execute_reply.started": "2021-10-03T05:43:08.057157Z"
    },
    "papermill": {
     "duration": 0.03067,
     "end_time": "2021-10-03T05:58:05.298725",
     "exception": false,
     "start_time": "2021-10-03T05:58:05.268055",
     "status": "completed"
    },
    "tags": []
   },
   "outputs": [],
   "source": [
    "# Lines below will give you a hint or solution code\n",
    "#step_1.c.hint()\n",
    "#step_1.c.solution()"
   ]
  },
  {
   "cell_type": "markdown",
   "id": "205eb507",
   "metadata": {
    "papermill": {
     "duration": 0.024018,
     "end_time": "2021-10-03T05:58:05.347298",
     "exception": false,
     "start_time": "2021-10-03T05:58:05.323280",
     "status": "completed"
    },
    "tags": []
   },
   "source": [
    "# Step 2: Improve the model\n",
    "\n",
    "Now that you've trained a default model as baseline, it's time to tinker with the parameters, to see if you can get better performance!\n",
    "- Begin by setting `my_model_2` to an XGBoost model, using the [XGBRegressor](https://xgboost.readthedocs.io/en/latest/python/python_api.html#xgboost.XGBRegressor) class.  Use what you learned in the previous tutorial to figure out how to change the default parameters (like `n_estimators` and `learning_rate`) to get better results.\n",
    "- Then, fit the model to the training data in `X_train` and `y_train`.\n",
    "- Set `predictions_2` to the model's predictions for the validation data.  Recall that the validation features are stored in `X_valid`.\n",
    "- Finally, use the `mean_absolute_error()` function to calculate the mean absolute error (MAE) corresponding to the predictions on the validation set.  Recall that the labels for the validation data are stored in `y_valid`.\n",
    "\n",
    "In order for this step to be marked correct, your model in `my_model_2` must attain lower MAE than the model in `my_model_1`. "
   ]
  },
  {
   "cell_type": "code",
   "execution_count": 9,
   "id": "1e4bbd37",
   "metadata": {
    "execution": {
     "iopub.execute_input": "2021-10-03T05:58:05.404857Z",
     "iopub.status.busy": "2021-10-03T05:58:05.404004Z",
     "iopub.status.idle": "2021-10-03T05:58:11.136847Z",
     "shell.execute_reply": "2021-10-03T05:58:11.136198Z",
     "shell.execute_reply.started": "2021-10-03T05:46:28.949318Z"
    },
    "papermill": {
     "duration": 5.765318,
     "end_time": "2021-10-03T05:58:11.136986",
     "exception": false,
     "start_time": "2021-10-03T05:58:05.371668",
     "status": "completed"
    },
    "tags": []
   },
   "outputs": [
    {
     "name": "stdout",
     "output_type": "stream",
     "text": [
      "Mean Absolute Error: 16688.691513270547\n"
     ]
    },
    {
     "data": {
      "application/javascript": [
       "parent.postMessage({\"jupyterEvent\": \"custom.exercise_interaction\", \"data\": {\"outcomeType\": 1, \"valueTowardsCompletion\": 0.5, \"interactionType\": 1, \"questionType\": 2, \"questionId\": \"2_Model2\", \"learnToolsVersion\": \"0.3.4\", \"failureMessage\": \"\", \"exceptionClass\": \"\", \"trace\": \"\"}}, \"*\")"
      ],
      "text/plain": [
       "<IPython.core.display.Javascript object>"
      ]
     },
     "metadata": {},
     "output_type": "display_data"
    },
    {
     "data": {
      "text/markdown": [
       "<span style=\"color:#33cc33\">Correct</span>"
      ],
      "text/plain": [
       "Correct"
      ]
     },
     "metadata": {},
     "output_type": "display_data"
    }
   ],
   "source": [
    "# Define the model\n",
    "my_model_2 = XGBRegressor(n_estimators = 1000, learning_rate = 0.05) # Your code here\n",
    "\n",
    "# Fit the model\n",
    "my_model_2.fit(X_train, y_train) # Your code here\n",
    "\n",
    "# Get predictions\n",
    "predictions_2 = my_model_2.predict(X_valid) # Your code here\n",
    "\n",
    "# Calculate MAE\n",
    "mae_2 = mean_absolute_error(predictions_2, y_valid) # Your code here\n",
    "\n",
    "# Uncomment to print MAE\n",
    "print(\"Mean Absolute Error:\" , mae_2)\n",
    "\n",
    "# Check your answer\n",
    "step_2.check()"
   ]
  },
  {
   "cell_type": "code",
   "execution_count": 10,
   "id": "a387c83d",
   "metadata": {
    "execution": {
     "iopub.execute_input": "2021-10-03T05:58:11.192402Z",
     "iopub.status.busy": "2021-10-03T05:58:11.191725Z",
     "iopub.status.idle": "2021-10-03T05:58:11.195129Z",
     "shell.execute_reply": "2021-10-03T05:58:11.194566Z",
     "shell.execute_reply.started": "2021-10-03T05:49:36.289581Z"
    },
    "papermill": {
     "duration": 0.032675,
     "end_time": "2021-10-03T05:58:11.195263",
     "exception": false,
     "start_time": "2021-10-03T05:58:11.162588",
     "status": "completed"
    },
    "tags": []
   },
   "outputs": [],
   "source": [
    "#my_model_2 #my"
   ]
  },
  {
   "cell_type": "code",
   "execution_count": 11,
   "id": "276e79a5",
   "metadata": {
    "execution": {
     "iopub.execute_input": "2021-10-03T05:58:11.249802Z",
     "iopub.status.busy": "2021-10-03T05:58:11.249131Z",
     "iopub.status.idle": "2021-10-03T05:58:11.254230Z",
     "shell.execute_reply": "2021-10-03T05:58:11.253684Z",
     "shell.execute_reply.started": "2021-10-03T05:48:43.952369Z"
    },
    "papermill": {
     "duration": 0.033381,
     "end_time": "2021-10-03T05:58:11.254366",
     "exception": false,
     "start_time": "2021-10-03T05:58:11.220985",
     "status": "completed"
    },
    "tags": []
   },
   "outputs": [],
   "source": [
    "# Lines below will give you a hint or solution code\n",
    "#step_2.hint()\n",
    "#step_2.solution()"
   ]
  },
  {
   "cell_type": "markdown",
   "id": "aec2f018",
   "metadata": {
    "papermill": {
     "duration": 0.025133,
     "end_time": "2021-10-03T05:58:11.304859",
     "exception": false,
     "start_time": "2021-10-03T05:58:11.279726",
     "status": "completed"
    },
    "tags": []
   },
   "source": [
    "# Step 3: Break the model\n",
    "\n",
    "In this step, you will create a model that performs worse than the original model in Step 1.  This will help you to develop your intuition for how to set parameters.  You might even find that you accidentally get better performance, which is ultimately a nice problem to have and a valuable learning experience!\n",
    "- Begin by setting `my_model_3` to an XGBoost model, using the [XGBRegressor](https://xgboost.readthedocs.io/en/latest/python/python_api.html#xgboost.XGBRegressor) class.  Use what you learned in the previous tutorial to figure out how to change the default parameters (like `n_estimators` and `learning_rate`) to design a model to get high MAE.\n",
    "- Then, fit the model to the training data in `X_train` and `y_train`.\n",
    "- Set `predictions_3` to the model's predictions for the validation data.  Recall that the validation features are stored in `X_valid`.\n",
    "- Finally, use the `mean_absolute_error()` function to calculate the mean absolute error (MAE) corresponding to the predictions on the validation set.  Recall that the labels for the validation data are stored in `y_valid`.\n",
    "\n",
    "In order for this step to be marked correct, your model in `my_model_3` must attain higher MAE than the model in `my_model_1`. "
   ]
  },
  {
   "cell_type": "code",
   "execution_count": 12,
   "id": "8d987361",
   "metadata": {
    "execution": {
     "iopub.execute_input": "2021-10-03T05:58:11.359833Z",
     "iopub.status.busy": "2021-10-03T05:58:11.359058Z",
     "iopub.status.idle": "2021-10-03T05:58:11.406489Z",
     "shell.execute_reply": "2021-10-03T05:58:11.407074Z",
     "shell.execute_reply.started": "2021-10-03T05:55:04.479033Z"
    },
    "papermill": {
     "duration": 0.076819,
     "end_time": "2021-10-03T05:58:11.407249",
     "exception": false,
     "start_time": "2021-10-03T05:58:11.330430",
     "status": "completed"
    },
    "tags": []
   },
   "outputs": [
    {
     "name": "stdout",
     "output_type": "stream",
     "text": [
      "Mean Absolute Error: 127895.0828807256\n"
     ]
    },
    {
     "data": {
      "application/javascript": [
       "parent.postMessage({\"jupyterEvent\": \"custom.exercise_interaction\", \"data\": {\"outcomeType\": 1, \"valueTowardsCompletion\": 0.5, \"interactionType\": 1, \"questionType\": 2, \"questionId\": \"3_Model3\", \"learnToolsVersion\": \"0.3.4\", \"failureMessage\": \"\", \"exceptionClass\": \"\", \"trace\": \"\"}}, \"*\")"
      ],
      "text/plain": [
       "<IPython.core.display.Javascript object>"
      ]
     },
     "metadata": {},
     "output_type": "display_data"
    },
    {
     "data": {
      "text/markdown": [
       "<span style=\"color:#33cc33\">Correct</span>"
      ],
      "text/plain": [
       "Correct"
      ]
     },
     "metadata": {},
     "output_type": "display_data"
    }
   ],
   "source": [
    "# My: we need to decrease the MAE\n",
    "# Define the model\n",
    "my_model_3 = XGBRegressor(n_estimators = 1)\n",
    "\n",
    "# Fit the model\n",
    "my_model_3.fit(X_train, y_train) # Your code here\n",
    "\n",
    "# Get predictions\n",
    "predictions_3 = my_model_3.predict(X_valid)\n",
    "\n",
    "# Calculate MAE\n",
    "mae_3 = mean_absolute_error(predictions_3, y_valid)\n",
    "\n",
    "# Uncomment to print MAE\n",
    "print(\"Mean Absolute Error:\" , mae_3)\n",
    "\n",
    "# Check your answer\n",
    "step_3.check()"
   ]
  },
  {
   "cell_type": "code",
   "execution_count": 13,
   "id": "387d8846",
   "metadata": {
    "execution": {
     "iopub.execute_input": "2021-10-03T05:58:11.465090Z",
     "iopub.status.busy": "2021-10-03T05:58:11.464262Z",
     "iopub.status.idle": "2021-10-03T05:58:11.467606Z",
     "shell.execute_reply": "2021-10-03T05:58:11.468027Z",
     "shell.execute_reply.started": "2021-10-03T05:57:08.413509Z"
    },
    "papermill": {
     "duration": 0.033831,
     "end_time": "2021-10-03T05:58:11.468179",
     "exception": false,
     "start_time": "2021-10-03T05:58:11.434348",
     "status": "completed"
    },
    "tags": []
   },
   "outputs": [],
   "source": [
    "# Lines below will give you a hint or solution code\n",
    "#step_3.hint()\n",
    "#step_3.solution()"
   ]
  },
  {
   "cell_type": "markdown",
   "id": "7c8e3597",
   "metadata": {
    "papermill": {
     "duration": 0.017601,
     "end_time": "2021-10-03T05:58:11.504043",
     "exception": false,
     "start_time": "2021-10-03T05:58:11.486442",
     "status": "completed"
    },
    "tags": []
   },
   "source": [
    "# Keep going\n",
    "\n",
    "Continue to learn about **[data leakage](https://www.kaggle.com/alexisbcook/data-leakage)**.  This is an important issue for a data scientist to understand, and it has the potential to ruin your models in subtle and dangerous ways!"
   ]
  }
 ],
 "metadata": {
  "kernelspec": {
   "display_name": "Python 3",
   "language": "python",
   "name": "python3"
  },
  "language_info": {
   "codemirror_mode": {
    "name": "ipython",
    "version": 3
   },
   "file_extension": ".py",
   "mimetype": "text/x-python",
   "name": "python",
   "nbconvert_exporter": "python",
   "pygments_lexer": "ipython3",
   "version": "3.7.10"
  },
  "papermill": {
   "default_parameters": {},
   "duration": 17.531977,
   "end_time": "2021-10-03T05:58:12.331876",
   "environment_variables": {},
   "exception": null,
   "input_path": "__notebook__.ipynb",
   "output_path": "__notebook__.ipynb",
   "parameters": {},
   "start_time": "2021-10-03T05:57:54.799899",
   "version": "2.3.3"
  }
 },
 "nbformat": 4,
 "nbformat_minor": 5
}
